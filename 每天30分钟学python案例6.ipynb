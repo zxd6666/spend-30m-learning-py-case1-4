{
 "cells": [
  {
   "cell_type": "markdown",
   "metadata": {},
   "source": [
    "# 案例六 判断密码强弱"
   ]
  },
  {
   "cell_type": "markdown",
   "metadata": {},
   "source": [
    "## 功能1.0 基础判断\n",
    "识别密码是否满足：\n",
    "1. 8位\n",
    "2. 有数字\n",
    "3. 有字母"
   ]
  },
  {
   "cell_type": "code",
   "execution_count": 1,
   "metadata": {},
   "outputs": [],
   "source": [
    "def check_num1(strings):\n",
    "    for x in strings:\n",
    "        if x.isnumeric():\n",
    "            return True\n",
    "    return False\n",
    "\n",
    "def check_letter1(strings):\n",
    "    for x in strings:\n",
    "        if x.isalpha():\n",
    "            return True\n",
    "    return False"
   ]
  },
  {
   "cell_type": "code",
   "execution_count": 2,
   "metadata": {},
   "outputs": [],
   "source": [
    "def check_passwords1():\n",
    "    passwords = input('请输入密码：')\n",
    "    strength_level = 0\n",
    "    #规则1\n",
    "    if len(passwords) >= 8:\n",
    "        strength_level += 1\n",
    "    else:\n",
    "        print('密码至少8位！')\n",
    "    #规则2   \n",
    "    if check_num1(passwords):\n",
    "        strength_level += 1\n",
    "    else:\n",
    "        print('密码至少包含一位数字！')\n",
    "    #规则3    \n",
    "    if check_letter1(passwords):\n",
    "        strength_level += 1\n",
    "    else:\n",
    "        print('密码至少包含一位字母！')\n",
    "    \n",
    "    if strength_level == 3:\n",
    "        print('恭喜！密码强度合格！')\n",
    "    else:\n",
    "        print('对不起，您的密码强度过低，请再次输入！')"
   ]
  },
  {
   "cell_type": "code",
   "execution_count": 4,
   "metadata": {
    "scrolled": true
   },
   "outputs": [
    {
     "name": "stdout",
     "output_type": "stream",
     "text": [
      "请输入密码：1234\n",
      "密码至少8位！\n",
      "密码至少包含一位字母！\n",
      "对不起，您的密码强度过低，请再次输入！\n"
     ]
    }
   ],
   "source": [
    "check_passwords1()"
   ]
  },
  {
   "cell_type": "markdown",
   "metadata": {},
   "source": [
    "## 功能2.0 限制输入次数\n",
    "限制输入次数，并且提前终止\n",
    "* break\n",
    "* continue"
   ]
  },
  {
   "cell_type": "code",
   "execution_count": 5,
   "metadata": {},
   "outputs": [
    {
     "name": "stdout",
     "output_type": "stream",
     "text": [
      "如果是continue，输出为： 1\n",
      "如果是continue，输出为： 3\n",
      "如果是continue，输出为： 5\n",
      "如果是continue，输出为： 7\n",
      "如果是continue，输出为： 9\n"
     ]
    }
   ],
   "source": [
    "for i in range(10):\n",
    "    if i % 2 == 0:\n",
    "        break\n",
    "    print('如果是break，输出为：',i)\n",
    "#break终止整个循环，i第一个就是0，所以不打印直接终止整个循环，输出为空\n",
    "\n",
    "for i in range(10):\n",
    "    if i % 2 == 0:\n",
    "        continue\n",
    "    print('如果是continue，输出为：',i)\n",
    "#bcontinue终止当前循环，i如果是偶数，就结束这个循环，继续下一个循环，下一个循环i是奇数，所以输出i"
   ]
  },
  {
   "cell_type": "code",
   "execution_count": 6,
   "metadata": {},
   "outputs": [],
   "source": [
    "def check_num2(strings):\n",
    "    has_number = False\n",
    "    for x in strings:\n",
    "        if x.isnumeric():\n",
    "            has_number = True\n",
    "            break\n",
    "    return has_number\n",
    "\n",
    "def check_letter2(strings):\n",
    "    has_letter = False\n",
    "    for x in strings:\n",
    "        if x.isalpha():\n",
    "            has_letter = True\n",
    "            break\n",
    "    return has_letter"
   ]
  },
  {
   "cell_type": "markdown",
   "metadata": {},
   "source": [
    "↑更改判断循环的输出结构，并且添加密码输入次数限制2次↓"
   ]
  },
  {
   "cell_type": "markdown",
   "metadata": {},
   "source": [
    "* 自己写的"
   ]
  },
  {
   "cell_type": "code",
   "execution_count": 7,
   "metadata": {},
   "outputs": [],
   "source": [
    "def check_passwords2():\n",
    "    passwords = input('请输入密码：')\n",
    "    n = 1\n",
    "    while n <=3:\n",
    "        strength_level = 0\n",
    "        #规则1\n",
    "        if len(passwords) >= 8:\n",
    "            strength_level += 1\n",
    "        else:\n",
    "            print('密码至少8位！')\n",
    "        #规则2\n",
    "        if check_num2(passwords):\n",
    "            strength_level += 1\n",
    "        else:\n",
    "            print('密码至少包含一位数字！')\n",
    "        #规则3\n",
    "        if check_letter2(passwords):\n",
    "            strength_level += 1\n",
    "        else:\n",
    "            print('密码至少包含一位字母！')\n",
    "\n",
    "        if strength_level == 3:\n",
    "            print('恭喜！密码强度合格！')\n",
    "            break\n",
    "        else:\n",
    "            print('对不起您，的密码强度太低！')\n",
    "            print('**************************************')\n",
    "        n += 1\n",
    "        if n <= 2:\n",
    "            passwords = input('请再次输入:')\n",
    "    if n >= 3:\n",
    "        print('您的输入次数已达上限,请稍后再试！')"
   ]
  },
  {
   "cell_type": "markdown",
   "metadata": {},
   "source": [
    "* 老师写的（限制5次输入）"
   ]
  },
  {
   "cell_type": "code",
   "execution_count": 8,
   "metadata": {},
   "outputs": [],
   "source": [
    "def check_passwords3():\n",
    "    times = 5\n",
    "    while times > 0:\n",
    "        passwords = input('请输入密码：')\n",
    "        strength_level = 0\n",
    "        #规则1\n",
    "        if len(passwords) >= 8:\n",
    "            strength_level += 1\n",
    "        else:\n",
    "            print('密码至少8位！')\n",
    "        #规则2\n",
    "        if check_num2(passwords):\n",
    "            strength_level += 1\n",
    "        else:\n",
    "            print('密码至少包含一位数字！')\n",
    "        #规则3\n",
    "        if check_letter2(passwords):\n",
    "            strength_level += 1\n",
    "        else:\n",
    "            print('密码至少包含一位字母！')\n",
    "\n",
    "        if strength_level == 3:\n",
    "            print('恭喜！密码强度合格！')\n",
    "            break\n",
    "        else:\n",
    "            print('对不起您，的密码强度太低！')\n",
    "            print('**************************************')\n",
    "        times -= 1\n",
    "    if times <= 0:\n",
    "        print('您的输入次数已达上限,请稍后再试！')"
   ]
  },
  {
   "cell_type": "code",
   "execution_count": 9,
   "metadata": {},
   "outputs": [
    {
     "name": "stdout",
     "output_type": "stream",
     "text": [
      "请输入密码：1234\n",
      "密码至少8位！\n",
      "密码至少包含一位字母！\n",
      "对不起您，的密码强度太低！\n",
      "**************************************\n",
      "请输入密码：abcd\n",
      "密码至少8位！\n",
      "密码至少包含一位数字！\n",
      "对不起您，的密码强度太低！\n",
      "**************************************\n",
      "请输入密码：1234abc\n",
      "密码至少8位！\n",
      "对不起您，的密码强度太低！\n",
      "**************************************\n",
      "请输入密码：12341234\n",
      "密码至少包含一位字母！\n",
      "对不起您，的密码强度太低！\n",
      "**************************************\n",
      "请输入密码：acdvfghjk\n",
      "密码至少包含一位数字！\n",
      "对不起您，的密码强度太低！\n",
      "**************************************\n",
      "您的输入次数已达上限,请稍后再试！\n"
     ]
    }
   ],
   "source": [
    "check_passwords3()"
   ]
  },
  {
   "cell_type": "markdown",
   "metadata": {},
   "source": [
    "## 功能3.0 保存密码及强度"
   ]
  },
  {
   "cell_type": "code",
   "execution_count": 11,
   "metadata": {},
   "outputs": [],
   "source": [
    "def check_passwords4():\n",
    "    times = 5\n",
    "    while times > 0:\n",
    "        passwords = input('请输入密码：')\n",
    "        strength_level = 0\n",
    "        #规则1\n",
    "        if len(passwords) >= 8:\n",
    "            strength_level += 1\n",
    "        else:\n",
    "            print('密码至少8位！')\n",
    "        #规则2\n",
    "        if check_num2(passwords):\n",
    "            strength_level += 1\n",
    "        else:\n",
    "            print('密码至少包含一位数字！')\n",
    "        #规则3\n",
    "        if check_letter2(passwords):\n",
    "            strength_level += 1\n",
    "        else:\n",
    "            print('密码至少包含一位字母！')\n",
    "            \n",
    "        #文件操作，在之前文件的基础上续写，如果没有该文件则直接创建新文件\n",
    "        f = open('passwords.txt','a')\n",
    "        f.write('密码：{}，强度：{}\\n'.format(passwords,strength_level))\n",
    "        f.close()\n",
    "\n",
    "        if strength_level == 3:\n",
    "            print('恭喜！密码强度合格！')            \n",
    "            break\n",
    "        else:\n",
    "            print('对不起您，的密码强度太低！')\n",
    "            print('**************************************')\n",
    "        times -= 1\n",
    "    if times <= 0:\n",
    "        print('您的输入次数已达上限,请稍后再试！')"
   ]
  },
  {
   "cell_type": "code",
   "execution_count": 12,
   "metadata": {},
   "outputs": [
    {
     "name": "stdout",
     "output_type": "stream",
     "text": [
      "请输入密码：12345ghjk\n",
      "恭喜！密码强度合格！\n"
     ]
    }
   ],
   "source": [
    "check_passwords4()"
   ]
  },
  {
   "cell_type": "markdown",
   "metadata": {},
   "source": [
    "## 功能4.0 文件读取"
   ]
  },
  {
   "cell_type": "markdown",
   "metadata": {},
   "source": [
    "文件读取有几种方式：\n",
    "* read 读取全部内容为一个字符串\n",
    "* readline 按行读取，每次读取一行，返回下一行内容的字符串\n",
    "* readlines 按行读取，一次读取所有行为一个列表，每一个元素是以换行符为结尾的一个字符串\n",
    "\n",
    "遍历文件的方式：首先是f = open('filename','r')\n",
    "* for line in f.readlines():\n",
    "* for line in f:\n",
    "\n",
    "还是习惯用pandas的读取存储。。。"
   ]
  },
  {
   "cell_type": "markdown",
   "metadata": {},
   "source": [
    "## 功能5.0 判断函数的封装\n",
    "面向对象（OPP，Object Oriented Programming）编程。\n",
    "\n",
    "* 类的概念——对象的集合称为类（class）\n",
    "    * 类的属性——类本身的一些特征\n",
    "    * 类的方法——类所能实现的行为\n",
    "* 类的定义\n",
    ">class ClassName\n",
    ">\n",
    ">__init__(self)构造函数：初始化类的属性\n",
    ">\n",
    ">self代表类的实例"
   ]
  },
  {
   "cell_type": "markdown",
   "metadata": {},
   "source": [
    "类的定义\n",
    "\n",
    "本例中，是将密码判断的一系列函数都作为对象来处理的，这些函数抽象为一种处理工具，工具自身有两个属性，分别是密码和密码强度，其中密码需要输入实参，所以在初始化时，需要设定一个输入参数密码password，并且给密码强度一个初始值。\n",
    "\n",
    "类里函数的定义：func(self,agrs)。如果函数内部需要的参数是类的属性值，则直接调用class.attr，不用在定义时写形参。"
   ]
  },
  {
   "cell_type": "code",
   "execution_count": 13,
   "metadata": {},
   "outputs": [],
   "source": [
    "class PasswordTool:\n",
    "    '''\n",
    "       密码工具类\n",
    "    '''\n",
    "    #初始化\n",
    "    def __init__(self,password):\n",
    "        #类的属性\n",
    "        self.password = password\n",
    "        self.strength_level = 0\n",
    "    \n",
    "    #类的方法\n",
    "    def process_password(self):\n",
    "        #规则1\n",
    "        if len(self.password) >= 8:\n",
    "            self.strength_level += 1\n",
    "        else:\n",
    "            print('密码至少8位！')\n",
    "        #规则2\n",
    "        if self.check_num3():\n",
    "            self.strength_level += 1\n",
    "        else:\n",
    "            print('密码至少包含一位数字！')\n",
    "        #规则3\n",
    "        if self.check_letter3():\n",
    "            self.strength_level += 1\n",
    "        else:\n",
    "            print('密码至少包含一位字母！')\n",
    "        \n",
    "    def check_num3(self):\n",
    "        has_number = False\n",
    "        for x in self.password:\n",
    "            if x.isnumeric():\n",
    "                has_number = True\n",
    "                break\n",
    "        return has_number\n",
    "\n",
    "    def check_letter3(self):\n",
    "        has_letter = False\n",
    "        for x in self.password:\n",
    "            if x.isalpha():\n",
    "                has_letter = True\n",
    "                break\n",
    "        return has_letter"
   ]
  },
  {
   "cell_type": "markdown",
   "metadata": {},
   "source": [
    "类的调用\n",
    "\n",
    "直接将类赋值给一个变量a，则其内部所有的函数func和变量arg都可以直接用a.func和a.arg来调用。"
   ]
  },
  {
   "cell_type": "code",
   "execution_count": 14,
   "metadata": {},
   "outputs": [],
   "source": [
    "def check_passwords5():\n",
    "    times = 5\n",
    "    while times > 0:\n",
    "        password = input('请输入密码：')\n",
    "        #实例化密码工具对象\n",
    "        password_tool = PasswordTool(password)\n",
    "        password_tool.process_password()\n",
    "           \n",
    "        #文件操作，在之前文件的基础上续写，如果没有该文件则直接创建新文件\n",
    "        f = open('passwords.txt','a')\n",
    "        f.write('密码：{}，强度：{}\\n'.format(password,password_tool.strength_level))\n",
    "        f.close()\n",
    "\n",
    "        if password_tool.strength_level == 3:\n",
    "            print('恭喜！密码强度合格！')            \n",
    "            break\n",
    "        else:\n",
    "            print('对不起您，的密码强度太低！')\n",
    "            print('**************************************')\n",
    "        times -= 1\n",
    "    if times <= 0:\n",
    "        print('您的输入次数已达上限,请稍后再试！')"
   ]
  },
  {
   "cell_type": "code",
   "execution_count": 15,
   "metadata": {},
   "outputs": [
    {
     "name": "stdout",
     "output_type": "stream",
     "text": [
      "请输入密码：123456\n",
      "密码至少8位！\n",
      "密码至少包含一位字母！\n",
      "对不起您，的密码强度太低！\n",
      "**************************************\n",
      "请输入密码：abcd\n",
      "密码至少8位！\n",
      "密码至少包含一位数字！\n",
      "对不起您，的密码强度太低！\n",
      "**************************************\n",
      "请输入密码：1234abcd\n",
      "恭喜！密码强度合格！\n"
     ]
    }
   ],
   "source": [
    "check_passwords5()"
   ]
  },
  {
   "cell_type": "markdown",
   "metadata": {},
   "source": [
    "## 功能6.0 文件函数的封装"
   ]
  },
  {
   "cell_type": "markdown",
   "metadata": {},
   "source": [
    "类的定义\n",
    "\n",
    "本例中，是将文件读取和写入函数作为对象来处理的，这些函数抽象为一种处理工具，工具自身有一个属性，就是文件路径，它需要输入实参，所以在初始化时，需要设定一个输入参数文件路径filepath。"
   ]
  },
  {
   "cell_type": "code",
   "execution_count": 16,
   "metadata": {},
   "outputs": [],
   "source": [
    "class FileTool:\n",
    "    '''\n",
    "       文件工具类\n",
    "    '''\n",
    "    #初始化\n",
    "    def __init__(self,filepath):\n",
    "        #类的属性\n",
    "        self.filepath = filepath\n",
    "    \n",
    "    #类的方法\n",
    "    def write_to_file(self,line):\n",
    "        f = open(self.filepath,'a')\n",
    "        f.write(line)\n",
    "        f.close()\n",
    "        \n",
    "    def read_from_file(self):\n",
    "        f = open(self.filepath,'r')\n",
    "        lines = f.readlines()\n",
    "        f.close()\n",
    "        return lines"
   ]
  },
  {
   "cell_type": "markdown",
   "metadata": {},
   "source": [
    "类的调用"
   ]
  },
  {
   "cell_type": "code",
   "execution_count": 17,
   "metadata": {},
   "outputs": [],
   "source": [
    "def check_passwords6():\n",
    "    times = 5\n",
    "    filepath = 'passwords_6.txt'\n",
    "    file_tool = FileTool(filepath)\n",
    "    while times > 0:\n",
    "        password = input('请输入密码：')\n",
    "        #实例化密码工具对象\n",
    "        password_tool = PasswordTool(password)\n",
    "        password_tool.process_password()\n",
    "           \n",
    "        #实例化文件工具对象\n",
    "        #写操作\n",
    "        line = '密码：{}，强度：{}\\n'.format(password,password_tool.strength_level)\n",
    "        file_tool.write_to_file(line)\n",
    "\n",
    "        if password_tool.strength_level == 3:\n",
    "            print('恭喜！密码强度合格！')            \n",
    "            break\n",
    "        else:\n",
    "            print('对不起您，的密码强度太低！')\n",
    "            print('**************************************')\n",
    "        times -= 1\n",
    "    if times <= 0:\n",
    "        print('您的输入次数已达上限,请稍后再试！')\n",
    "    \n",
    "    #读操作\n",
    "    lines = file_tool.read_from_file()\n",
    "    for line in lines:\n",
    "        print(line)"
   ]
  },
  {
   "cell_type": "code",
   "execution_count": 18,
   "metadata": {},
   "outputs": [
    {
     "name": "stdout",
     "output_type": "stream",
     "text": [
      "请输入密码：1234\n",
      "密码至少8位！\n",
      "密码至少包含一位字母！\n",
      "对不起您，的密码强度太低！\n",
      "**************************************\n",
      "请输入密码：abcd\n",
      "密码至少8位！\n",
      "密码至少包含一位数字！\n",
      "对不起您，的密码强度太低！\n",
      "**************************************\n",
      "请输入密码：1234abcd\n",
      "恭喜！密码强度合格！\n",
      "密码：1234，强度：1\n",
      "\n",
      "密码：abcd，强度：1\n",
      "\n",
      "密码：1234abcd，强度：3\n",
      "\n"
     ]
    }
   ],
   "source": [
    "check_passwords6()"
   ]
  },
  {
   "cell_type": "markdown",
   "metadata": {},
   "source": [
    "## 课后思考\n",
    "1. 同时必须包含大小写\n",
    "2. 必须包含特殊符号，如：+、-、* 等"
   ]
  },
  {
   "cell_type": "markdown",
   "metadata": {},
   "source": [
    "思考1很简单，只需要再写两个判断函数借助于is.upper和is.lower来判断即可。\n",
    "\n",
    "思考2判断方法如下，求出字符串中特殊符号的个数，然后再判断是否为0，进而输出布尔值。就不写函数了。（这种方法不支持\\符号的使用）"
   ]
  },
  {
   "cell_type": "code",
   "execution_count": 19,
   "metadata": {},
   "outputs": [],
   "source": [
    "#定义一个判断是否含有特殊符号的函数\n",
    "def check_special():\n",
    "    password = input('请输入密码：')\n",
    "    special_list = r'''\n",
    "    '\";:[]{}.,><+-!@#$%^&*()=_\\|/?~`\n",
    "    '''\n",
    "    has_special = False\n",
    "    for i in password:\n",
    "        if i in special_list:\n",
    "            has_special = True\n",
    "    return has_special"
   ]
  },
  {
   "cell_type": "code",
   "execution_count": 20,
   "metadata": {},
   "outputs": [
    {
     "name": "stdout",
     "output_type": "stream",
     "text": [
      "请输入密码：asdafs\\\n"
     ]
    },
    {
     "data": {
      "text/plain": [
       "True"
      ]
     },
     "execution_count": 20,
     "metadata": {},
     "output_type": "execute_result"
    }
   ],
   "source": [
    "check_special()"
   ]
  }
 ],
 "metadata": {
  "kernelspec": {
   "display_name": "Python 3",
   "language": "python",
   "name": "python3"
  },
  "language_info": {
   "codemirror_mode": {
    "name": "ipython",
    "version": 3
   },
   "file_extension": ".py",
   "mimetype": "text/x-python",
   "name": "python",
   "nbconvert_exporter": "python",
   "pygments_lexer": "ipython3",
   "version": "3.6.5"
  }
 },
 "nbformat": 4,
 "nbformat_minor": 2
}
