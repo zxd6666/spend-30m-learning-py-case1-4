{
 "cells": [
  {
   "cell_type": "markdown",
   "metadata": {},
   "source": [
    "# 案例五 时间判断\n",
    "\n",
    "通过不同的数据储存类型来实现同一个功能，元组、列表、集合和字典。"
   ]
  },
  {
   "cell_type": "code",
   "execution_count": 1,
   "metadata": {},
   "outputs": [],
   "source": [
    "from datetime import datetime"
   ]
  },
  {
   "cell_type": "code",
   "execution_count": 2,
   "metadata": {},
   "outputs": [],
   "source": [
    "def is_leap_year(year):\n",
    "    '''\n",
    "    判断是否为闰年\n",
    "    '''\n",
    "    is_leap = False\n",
    "    if (year % 2 == 0) | ((year % 2 ==0) & (year % 2 != 0)):\n",
    "        is_leap = True\n",
    "    return is_leap"
   ]
  },
  {
   "cell_type": "markdown",
   "metadata": {},
   "source": [
    "## 元组"
   ]
  },
  {
   "cell_type": "code",
   "execution_count": 3,
   "metadata": {},
   "outputs": [],
   "source": [
    "#元组存储月份天数表\n",
    "def days_tupl() :\n",
    "    data_str = input('请输入日期（yyyymmdd）:')\n",
    "    data_time = datetime.strptime(data_str, '%Y%m%d')\n",
    "    #提取年月日\n",
    "    year = data_time.year\n",
    "    month = data_time.month\n",
    "    day = data_time.day\n",
    "    #月份天数表\n",
    "    days_of_month = (31,28,31,30,31,30,31,31,30,31,30,31)\n",
    "    #计算天数\n",
    "    days = sum(days_of_month[:month - 1]) + day\n",
    "    if (month > 2) & is_leap_year(year):\n",
    "        days += 1\n",
    "    print('这是{}年的第{}天（by tupl）。'.format(year,days))"
   ]
  },
  {
   "cell_type": "markdown",
   "metadata": {},
   "source": [
    "## 列表"
   ]
  },
  {
   "cell_type": "code",
   "execution_count": 4,
   "metadata": {},
   "outputs": [],
   "source": [
    "#列表存储月份天数表\n",
    "def days_list() :\n",
    "    data_str = input('请输入日期（yyyymmdd）:')\n",
    "    data_time = datetime.strptime(data_str, '%Y%m%d')\n",
    "    #提取年月日\n",
    "    year = data_time.year\n",
    "    month = data_time.month\n",
    "    day = data_time.day\n",
    "    #月份天数表\n",
    "    days_of_month = [31,28,31,30,31,30,31,31,30,31,30,31]\n",
    "    #判断闰年\n",
    "    if is_leap_year(year):\n",
    "        days_of_month[1] = 29\n",
    "    #计算天数\n",
    "    days = sum(days_of_month[:month - 1]) + day\n",
    "    print('这是{}年的第{}天（by list）。'.format(year,days))"
   ]
  },
  {
   "cell_type": "markdown",
   "metadata": {},
   "source": [
    "## 集合"
   ]
  },
  {
   "cell_type": "code",
   "execution_count": 5,
   "metadata": {},
   "outputs": [],
   "source": [
    "#集合存储月份天数表\n",
    "def days_set() :\n",
    "    data_str = input('请输入日期（yyyymmdd）:')\n",
    "    data_time = datetime.strptime(data_str, '%Y%m%d')\n",
    "    #提取年月日\n",
    "    year = data_time.year\n",
    "    month = data_time.month\n",
    "    day = data_time.day\n",
    "    #月份天数表\n",
    "    _31_days = {1,3,5,7,8,10,12}\n",
    "    _30_days = {4,6,9,11}\n",
    "    #初始化\n",
    "    days = 0\n",
    "    days += day\n",
    "    #计算天数\n",
    "    for i in range(1,month):\n",
    "        if i in _31_days:\n",
    "            days += 31\n",
    "        elif i in _30_days:\n",
    "            days += 30\n",
    "        else:\n",
    "            days += 28   \n",
    "    #判断闰年\n",
    "    if is_leap_year(year):\n",
    "        days  += 1\n",
    "    print('这是{}年的第{}天（by set）。'.format(year,days))"
   ]
  },
  {
   "cell_type": "markdown",
   "metadata": {},
   "source": [
    "## 字典"
   ]
  },
  {
   "cell_type": "code",
   "execution_count": 6,
   "metadata": {},
   "outputs": [],
   "source": [
    "#集合存储月份天数表\n",
    "def days_dic() :\n",
    "    data_str = input('请输入日期（yyyymmdd）:')\n",
    "    data_time = datetime.strptime(data_str, '%Y%m%d')\n",
    "    #提取年月日\n",
    "    year = data_time.year\n",
    "    month = data_time.month\n",
    "    day = data_time.day\n",
    "    #月份天数表\n",
    "    days_of_month = {1:31,\n",
    "                     2:28,\n",
    "                     3:31,\n",
    "                     4:40,\n",
    "                     5:31,\n",
    "                     6:30,\n",
    "                     7:31,\n",
    "                     8:31,\n",
    "                     9:30,\n",
    "                     10:31,\n",
    "                     11:30,\n",
    "                     12:31}    \n",
    "    #初始化\n",
    "    days = 0\n",
    "    days += day\n",
    "    #计算天数\n",
    "    for i in range(1,month):\n",
    "        days += days_of_month[i] \n",
    "    #字典索引从1开始\n",
    "    #判断闰年\n",
    "    if is_leap_year(year):\n",
    "        days  += 1\n",
    "    print('这是{}年的第{}天（by dic）。'.format(year,days))"
   ]
  },
  {
   "cell_type": "code",
   "execution_count": 7,
   "metadata": {},
   "outputs": [],
   "source": [
    "def main():\n",
    "    days_tupl()\n",
    "    days_list()\n",
    "    days_set()\n",
    "    days_dic()\n",
    "    "
   ]
  },
  {
   "cell_type": "code",
   "execution_count": 8,
   "metadata": {
    "scrolled": false
   },
   "outputs": [
    {
     "name": "stdout",
     "output_type": "stream",
     "text": [
      "请输入日期（yyyymmdd）:20000301\n",
      "这是2000年的第61天（by tupl）。\n",
      "请输入日期（yyyymmdd）:20000301\n",
      "这是2000年的第61天（by list）。\n",
      "请输入日期（yyyymmdd）:20000301\n",
      "这是2000年的第61天（by set）。\n",
      "请输入日期（yyyymmdd）:20000301\n",
      "这是2000年的第61天（by dic）。\n"
     ]
    }
   ],
   "source": [
    "main()"
   ]
  },
  {
   "cell_type": "markdown",
   "metadata": {},
   "source": [
    "## 课后思考\n",
    "1. 如果把字典中的键值对反过来，如何实现功能\n",
    "2. Python自带的功能，一行代码来实现"
   ]
  },
  {
   "cell_type": "code",
   "execution_count": 9,
   "metadata": {},
   "outputs": [],
   "source": [
    "#思考1\n",
    "def days_dic2() :\n",
    "    data_str = input('请输入日期（yyyymmdd）:')\n",
    "    data_time = datetime.strptime(data_str, '%Y%m%d')\n",
    "    #提取年月日\n",
    "    year = data_time.year\n",
    "    month = data_time.month\n",
    "    day = data_time.day\n",
    "    #月份天数表\n",
    "    days_of_month = {31:{1,3,5,7,8,10,12},\n",
    "                     30:{4,6,9,11}}    \n",
    "    #初始化\n",
    "    days = 0\n",
    "    days += day\n",
    "    #计算天数\n",
    "    for i in range(1,month):\n",
    "        if i in days_of_month[31]:\n",
    "            days += 31\n",
    "        elif i in days_of_month[30]:\n",
    "            days += 30\n",
    "        else:\n",
    "            days += 28 \n",
    "    #字典索引从1开始\n",
    "    #判断闰年\n",
    "    if is_leap_year(year):\n",
    "        days  += 1\n",
    "    print('这是{}年的第{}天（by dic）。'.format(year,days))"
   ]
  },
  {
   "cell_type": "code",
   "execution_count": 10,
   "metadata": {
    "scrolled": true
   },
   "outputs": [
    {
     "name": "stdout",
     "output_type": "stream",
     "text": [
      "请输入日期（yyyymmdd）:20000301\n",
      "这是2000年的第61天（by dic）。\n"
     ]
    }
   ],
   "source": [
    "days_dic2()"
   ]
  },
  {
   "cell_type": "code",
   "execution_count": 11,
   "metadata": {},
   "outputs": [
    {
     "name": "stdout",
     "output_type": "stream",
     "text": [
      "请输入查询日期（yyyymmdd）：20000301\n",
      "061\n"
     ]
    }
   ],
   "source": [
    "#思考2\n",
    "from datetime import datetime as dt\n",
    "print(dt.strftime(dt.strptime(input('请输入查询日期（yyyymmdd）：'),'%Y%m%d'),'%j'))"
   ]
  },
  {
   "cell_type": "markdown",
   "metadata": {},
   "source": [
    "借助datetime库里的stftime函数来实现格式化数据。该函数的功能是将一个时间类型变量转换成你需要的格式，%j代表的是Day of the year as a zero-padded decimal number.\n",
    "\n",
    "更多参考https://docs.python.org/3.6/library/datetime.html?highlight=datetime#strftime-and-strptime-behavior"
   ]
  }
 ],
 "metadata": {
  "kernelspec": {
   "display_name": "Python 3",
   "language": "python",
   "name": "python3"
  },
  "language_info": {
   "codemirror_mode": {
    "name": "ipython",
    "version": 3
   },
   "file_extension": ".py",
   "mimetype": "text/x-python",
   "name": "python",
   "nbconvert_exporter": "python",
   "pygments_lexer": "ipython3",
   "version": "3.6.5"
  }
 },
 "nbformat": 4,
 "nbformat_minor": 2
}
