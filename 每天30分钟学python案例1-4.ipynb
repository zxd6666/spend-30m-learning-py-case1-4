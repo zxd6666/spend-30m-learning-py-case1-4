{
 "cells": [
  {
   "cell_type": "markdown",
   "metadata": {},
   "source": [
    "# 案例一 汇率转换"
   ]
  },
  {
   "cell_type": "markdown",
   "metadata": {},
   "source": [
    "快捷键 \n",
    "\n",
    "ctrl+/ 给选择部分加#\n",
    "\n",
    "tab 给选择部分全部加缩进\n",
    "\n",
    "shift+tab 将选择部分的缩进取消\n",
    "     "
   ]
  },
  {
   "cell_type": "code",
   "execution_count": 1,
   "metadata": {
    "scrolled": false
   },
   "outputs": [
    {
     "name": "stdout",
     "output_type": "stream",
     "text": [
      "欢迎使用货币转换器（退出请输入Q）。\n",
      "请输入货币的金额和单位（CNY/USD）（示例：100CNY）：100USD\n",
      "转换为人民币为： 677.0 CNY\n",
      "\n",
      "*******************************************\n",
      "请输入货币的金额和单位（CNY/USD）（示例：100CNY）：q\n",
      "程序已结束！\n"
     ]
    }
   ],
   "source": [
    "def main():    \n",
    "    usd_vs_rmb = 6.77\n",
    "    i = 0\n",
    "    print('欢迎使用货币转换器（退出请输入Q）。')\n",
    "    value_string = input('请输入货币的金额和单位（CNY/USD）（示例：100CNY）：')\n",
    "    while value_string.upper() != 'Q' :\n",
    "        unit = value_string[-3:]\n",
    "        value = value_string[:-3]\n",
    "        if unit.upper() == 'CNY' :\n",
    "            usd = float(value) / usd_vs_rmb\n",
    "            print('转换为美元为：',round(usd,3),'USD')\n",
    "        elif unit.upper() == 'USD' :\n",
    "            rmb = float(value) * usd_vs_rmb\n",
    "            print('转换为人民币为：',round(rmb,3),'CNY')\n",
    "        else :\n",
    "            print('请输入人民币或者美元单位！')\n",
    "        i += 1\n",
    "        #print('循环次数：',str(i))\n",
    "        print('\\n*******************************************')\n",
    "        value_string = input('请输入货币的金额和单位（CNY/USD）（示例：100CNY）：')\n",
    "    print('程序已结束！')\n",
    "\n",
    "#封装函数之后对函数进行调用，使整体更加简洁\n",
    "    \n",
    "if __name__ == '__main__':\n",
    "    main()"
   ]
  },
  {
   "cell_type": "markdown",
   "metadata": {},
   "source": [
    "课后习题的解答"
   ]
  },
  {
   "cell_type": "code",
   "execution_count": 2,
   "metadata": {},
   "outputs": [
    {
     "data": {
      "text/plain": [
       "8"
      ]
     },
     "execution_count": 2,
     "metadata": {},
     "output_type": "execute_result"
    }
   ],
   "source": [
    "#先求幂9，再求商1，最后乘法，结果为8\n",
    "11//3**2*8"
   ]
  },
  {
   "cell_type": "markdown",
   "metadata": {},
   "source": [
    "课后思考：\n",
    "\n",
    "1.更多货币单位怎么实现？\n",
    "\n",
    "2.实时汇率怎么获取？"
   ]
  },
  {
   "cell_type": "code",
   "execution_count": 3,
   "metadata": {},
   "outputs": [
    {
     "name": "stdout",
     "output_type": "stream",
     "text": [
      "欢迎使用货币转换器（退出请输入Q）。\n",
      "请输入货币的金额和单位（示例：100CNY，输入Q退出）：100CNY\n",
      "请输入如下货币：\n",
      "EUR AUD USD GBP JPY \n",
      "*******************************************\n",
      "请输入货币的金额和单位（示例：100CNY，输入Q退出）：100AUD\n",
      "转换为人民币为： 476.0 CNY\n",
      "\n",
      "*******************************************\n",
      "请输入货币的金额和单位（示例：100CNY，输入Q退出）：Q\n",
      "程序已结束！\n"
     ]
    }
   ],
   "source": [
    "##思考1.1\n",
    "#函数目的：将所有给出的货币转化为人民币\n",
    "print('欢迎使用货币转换器（退出请输入Q）。')\n",
    "currency_list = {'EUR':7.63,'AUD':4.76,'USD':6.72,'GBP':8.93,'JPY':0.06}\n",
    "value_string = input('请输入货币的金额和单位（示例：100CNY，输入Q退出）：')\n",
    "i = 1\n",
    "while value_string.upper() !='Q' :\n",
    "    unit = value_string[-3:]\n",
    "    value = value_string[:-3]\n",
    "    if unit.upper() in currency_list.keys() :\n",
    "        value = float(value) * currency_list[unit]\n",
    "        print('转换为人民币为：',round(value,3),'CNY')\n",
    "    else :\n",
    "        print('请输入如下货币：')\n",
    "        unit_list = list(currency_list.keys())\n",
    "        for i in range(0,len(unit_list)):\n",
    "            print(unit_list[i],end=' ')\n",
    "    i += 1\n",
    "    print('\\n*******************************************')\n",
    "    value_string = input('请输入货币的金额和单位（示例：100CNY，输入Q退出）：')\n",
    "print('程序已结束！')"
   ]
  },
  {
   "cell_type": "code",
   "execution_count": 5,
   "metadata": {
    "scrolled": false
   },
   "outputs": [
    {
     "data": {
      "text/html": [
       "<div>\n",
       "<style scoped>\n",
       "    .dataframe tbody tr th:only-of-type {\n",
       "        vertical-align: middle;\n",
       "    }\n",
       "\n",
       "    .dataframe tbody tr th {\n",
       "        vertical-align: top;\n",
       "    }\n",
       "\n",
       "    .dataframe thead th {\n",
       "        text-align: right;\n",
       "    }\n",
       "</style>\n",
       "<table border=\"1\" class=\"dataframe\">\n",
       "  <thead>\n",
       "    <tr style=\"text-align: right;\">\n",
       "      <th></th>\n",
       "      <th>CNY</th>\n",
       "      <th>USD</th>\n",
       "      <th>EUR</th>\n",
       "    </tr>\n",
       "  </thead>\n",
       "  <tbody>\n",
       "    <tr>\n",
       "      <th>CNY</th>\n",
       "      <td>1.00</td>\n",
       "      <td>0.15</td>\n",
       "      <td>0.13</td>\n",
       "    </tr>\n",
       "    <tr>\n",
       "      <th>USD</th>\n",
       "      <td>6.72</td>\n",
       "      <td>1.00</td>\n",
       "      <td>0.88</td>\n",
       "    </tr>\n",
       "    <tr>\n",
       "      <th>EUR</th>\n",
       "      <td>7.63</td>\n",
       "      <td>1.13</td>\n",
       "      <td>1.00</td>\n",
       "    </tr>\n",
       "  </tbody>\n",
       "</table>\n",
       "</div>"
      ],
      "text/plain": [
       "      CNY   USD   EUR\n",
       "CNY  1.00  0.15  0.13\n",
       "USD  6.72  1.00  0.88\n",
       "EUR  7.63  1.13  1.00"
      ]
     },
     "execution_count": 5,
     "metadata": {},
     "output_type": "execute_result"
    }
   ],
   "source": [
    "##思考1.2\n",
    "#借助数据库实现双向转换\n",
    "import pandas as pd\n",
    "currency_data = pd.read_csv('currency_rating.csv',index_col=0)\n",
    "currency_data"
   ]
  },
  {
   "cell_type": "code",
   "execution_count": 6,
   "metadata": {
    "scrolled": false
   },
   "outputs": [
    {
     "name": "stdout",
     "output_type": "stream",
     "text": [
      "请输入货币的金额和单位（示例：100CNY，输入Q退出）：100CNY\n",
      "请输入想要转换成的货币单位（示例：USD）：USD\n",
      "转换为 USD 为： 15.0\n",
      "\n",
      "*******************************************\n",
      "请输入货币的金额和单位（示例：100CNY，输入Q退出）：100CNY\n",
      "请输入想要转换成的货币单位（示例：USD）：EUR\n",
      "转换为 EUR 为： 13.0\n",
      "\n",
      "*******************************************\n",
      "请输入货币的金额和单位（示例：100CNY，输入Q退出）：q\n",
      "程序已结束！\n"
     ]
    }
   ],
   "source": [
    "value_string = input('请输入货币的金额和单位（示例：100CNY，输入Q退出）：')\n",
    "units = list(currency_data.columns)\n",
    "i = 1\n",
    "while value_string.upper() !='Q' :\n",
    "    unit_to = input('请输入想要转换成的货币单位（示例：USD）：')\n",
    "    unit_from = value_string[-3:]\n",
    "    value = value_string[:-3]\n",
    "    if unit_from.upper() in units :\n",
    "        if unit_to.upper() in units :\n",
    "            value = float(value) * currency_data.loc[unit_from,unit_to]\n",
    "            print('转换为',unit_to,'为：',round(value,3))\n",
    "        else :\n",
    "            print('请输入如下货币：')\n",
    "            for i in range(0,len(units)):\n",
    "                print(units[i],end=' ')\n",
    "    else :\n",
    "        print('请输入如下货币：')\n",
    "        for i in range(0,len(units)):\n",
    "            print(units[i],end=' ')\n",
    "    i += 1\n",
    "    print('\\n*******************************************')\n",
    "    value_string = input('请输入货币的金额和单位（示例：100CNY，输入Q退出）：')\n",
    "print('程序已结束！')"
   ]
  },
  {
   "cell_type": "markdown",
   "metadata": {},
   "source": [
    "# 案例二 绘制分形树"
   ]
  },
  {
   "cell_type": "code",
   "execution_count": 1,
   "metadata": {},
   "outputs": [],
   "source": [
    "import turtle\n",
    "#左转90度\n",
    "turtle.left(90)\n",
    "#前进100\n",
    "turtle.fd(100)\n",
    "#右转20度\n",
    "turtle.rt(20)\n",
    "#抬起画笔\n",
    "turtle.penup()\n",
    "#后退100\n",
    "turtle.bk(100)\n",
    "#放下画笔\n",
    "turtle.pendown()\n",
    "#关闭画笔\n",
    "turtle.exitonclick()"
   ]
  },
  {
   "cell_type": "markdown",
   "metadata": {},
   "source": [
    "## 五角星"
   ]
  },
  {
   "cell_type": "code",
   "execution_count": 2,
   "metadata": {},
   "outputs": [],
   "source": [
    "count = 1\n",
    "while count <=15:\n",
    "    turtle.forward(((count//5)+1)*50)\n",
    "    turtle.right(144)\n",
    "    count += 1\n",
    "    \n",
    "turtle.exitonclick()"
   ]
  },
  {
   "cell_type": "markdown",
   "metadata": {},
   "source": [
    "老师一直在强调简化整体的结构，将很多复杂的东西写成函数进行封装和调用，使代码看起来更简洁。\n",
    "\n",
    "这里我多添加了一个颜色变量，虽然画出来很丑。"
   ]
  },
  {
   "cell_type": "code",
   "execution_count": 4,
   "metadata": {},
   "outputs": [],
   "source": [
    "def draw_pentagram(size) :\n",
    "    count = 1\n",
    "    while count <=5:\n",
    "        turtle.forward(size)\n",
    "        turtle.right(144)\n",
    "        count += 1\n",
    "\n",
    "colors = ['red','green','black','blue','yellow','purple']\n",
    "size = 50\n",
    "while size <= 100:\n",
    "    i = size//10 - 5\n",
    "    turtle.color(colors[i])\n",
    "    draw_pentagram(size)\n",
    "    size += 10\n",
    "    \n",
    "turtle.exitonclick()"
   ]
  },
  {
   "cell_type": "markdown",
   "metadata": {},
   "source": [
    "递归函数"
   ]
  },
  {
   "cell_type": "code",
   "execution_count": 5,
   "metadata": {},
   "outputs": [],
   "source": [
    "#定义多了一个参数，绘制五角星的边的最大值\n",
    "def draw_recursive_pentagram(size = 50,maxsize = 100) :\n",
    "#依旧是绘制一个五角星的循环\n",
    "    count = 1\n",
    "    while count <= 5:\n",
    "        turtle.fd(size)\n",
    "        turtle.rt(144)\n",
    "        count += 1\n",
    "#绘制完成之后开始自身迭代        \n",
    "    size += 10\n",
    "#迭代结束的条件一定要设置好，不然就是死循环\n",
    "    if size <= maxsize :\n",
    "        draw_recursive_pentagram(size,maxsize)"
   ]
  },
  {
   "cell_type": "code",
   "execution_count": 7,
   "metadata": {},
   "outputs": [],
   "source": [
    "draw_recursive_pentagram(50,maxsize = 70)\n",
    "\n",
    "turtle.exitonclick()"
   ]
  },
  {
   "cell_type": "markdown",
   "metadata": {},
   "source": [
    "## 分形树\n",
    "\n",
    "这里已经把课后思考题完成了，将颜色变量添加进去，小于15的都是变成绿色，其余部分在返回画笔的时候改为棕色。"
   ]
  },
  {
   "cell_type": "code",
   "execution_count": 8,
   "metadata": {},
   "outputs": [],
   "source": [
    "def fractal_tree(branch_length) :\n",
    "    if branch_length >= 5:\n",
    "        # 绘制右侧树枝\n",
    "        turtle.fd(branch_length)\n",
    "        turtle.rt(20)\n",
    "        if branch_length <= 15 :\n",
    "            turtle.color('green')\n",
    "        fractal_tree(branch_length - 15)\n",
    "        \n",
    "        # 绘制左侧树枝\n",
    "        turtle.lt(40)\n",
    "        if branch_length <= 15 :\n",
    "            turtle.color('green')\n",
    "        fractal_tree(branch_length - 15)\n",
    "    \n",
    "        # 返回上个节点\n",
    "        if branch_length > 15 :\n",
    "            turtle.color('brown')\n",
    "        turtle.rt(20)\n",
    "        turtle.bk(branch_length)"
   ]
  },
  {
   "cell_type": "code",
   "execution_count": 10,
   "metadata": {
    "scrolled": true
   },
   "outputs": [],
   "source": [
    "#先调整画笔的位置，不然会超出绘图框\n",
    "turtle.left(90)\n",
    "turtle.penup()\n",
    "turtle.bk(100)\n",
    "turtle.pendown()\n",
    "\n",
    "fractal_tree(100)\n",
    "\n",
    "turtle.exitonclick()"
   ]
  },
  {
   "cell_type": "markdown",
   "metadata": {},
   "source": [
    "# 案例三 B分R计算器"
   ]
  },
  {
   "cell_type": "markdown",
   "metadata": {},
   "source": [
    "1.{}占位输出。当一个{}里面的数字要出现多次时，可以用数字{0}进行标记输出。\n",
    "\n",
    "2.Python处理异常情况的机制——try-except机制。\n"
   ]
  },
  {
   "cell_type": "code",
   "execution_count": 1,
   "metadata": {},
   "outputs": [],
   "source": [
    "def main() :\n",
    "    '''\n",
    "    定义主函数\n",
    "    '''\n",
    "    print('           欢迎使用BMR计算器！          ')\n",
    "    print('-------------------**-------------------')\n",
    "    y_or_n = input('是否要退出程序（y/n）？')\n",
    "    while y_or_n == 'n' :\n",
    "        #基础信息的输入\n",
    "        info = input('请依次输入一下信息（用空格隔开）。\\n性别 体重（kg） 身高（cm） 年龄:')\n",
    "        newinfo = info.split(sep=' ')\n",
    "        #异常情况处理机制\n",
    "        try:\n",
    "            gender = newinfo[0]\n",
    "            weight = float(newinfo[1])\n",
    "            height = float(newinfo[2])\n",
    "            age = int(newinfo[3])\n",
    "            if gender == '男' :\n",
    "                bmr = 13.7 * weight + 5.0 * height - 6.8 * age + 66\n",
    "            elif gender == '女' :\n",
    "                bmr = 9.6 * weight + 1.8 * height -4.7 * age + 655\n",
    "            else :\n",
    "                bmr = -1\n",
    "            if bmr != -1 :\n",
    "                print('您好！')\n",
    "                print('您的性别：{}；体重：{}公斤；身高：{}厘米；年龄：{}岁。'.format(gender, weight, height, age))\n",
    "                print('您的基础代谢率为：{}大卡。'.format(bmr))\n",
    "            else :\n",
    "                print('暂不支持该性别！')\n",
    "        except ValueError :\n",
    "            print('请输入正确信息！')\n",
    "        except IndexError :\n",
    "            print('输入的信息过少！')\n",
    "        #错误类型不可能枚举，其余情况用下一句涵盖\n",
    "        except :\n",
    "            print('程序异常！请稍后重试！')\n",
    "        #本次循环结束，再询问是否继续    \n",
    "        print('-------------------**-------------------')\n",
    "        y_or_n = input('是否要退出程序（y/n）？')\n",
    "    print('-------------------**-------------------')\n",
    "    print('             感谢您的使用！             ')"
   ]
  },
  {
   "cell_type": "code",
   "execution_count": 2,
   "metadata": {
    "scrolled": true
   },
   "outputs": [
    {
     "name": "stdout",
     "output_type": "stream",
     "text": [
      "           欢迎使用BMR计算器！          \n",
      "-------------------**-------------------\n",
      "是否要退出程序（y/n）？n\n",
      "请依次输入一下信息（用空格隔开）。\n",
      "性别 体重（kg） 身高（cm） 年龄:男 二十一 184 23\n",
      "请输入正确信息！\n",
      "-------------------**-------------------\n",
      "是否要退出程序（y/n）？n\n",
      "请依次输入一下信息（用空格隔开）。\n",
      "性别 体重（kg） 身高（cm） 年龄:男 21 184\n",
      "输入的信息过少！\n",
      "-------------------**-------------------\n",
      "是否要退出程序（y/n）？n\n",
      "请依次输入一下信息（用空格隔开）。\n",
      "性别 体重（kg） 身高（cm） 年龄:男 71 184 23\n",
      "您好！\n",
      "您的性别：男；体重：71.0公斤；身高：184.0厘米；年龄：23岁。\n",
      "您的基础代谢率为：1802.2999999999997大卡。\n",
      "-------------------**-------------------\n",
      "是否要退出程序（y/n）？y\n",
      "-------------------**-------------------\n",
      "             感谢您的使用！             \n"
     ]
    }
   ],
   "source": [
    "if __name__ == '__main__':\n",
    "    main()"
   ]
  },
  {
   "cell_type": "markdown",
   "metadata": {},
   "source": [
    "对异常处理机制进行封装"
   ]
  },
  {
   "cell_type": "code",
   "execution_count": 3,
   "metadata": {},
   "outputs": [],
   "source": [
    "def Exception_handling(data_input) :\n",
    "    try:\n",
    "        gender = data_input[0]\n",
    "        weight = float(data_input[1])\n",
    "        height = float(data_input[2])\n",
    "        age = int(data_input[3])\n",
    "        if gender == '男' :\n",
    "            bmr = 13.7 * weight + 5.0 * height - 6.8 * age + 66\n",
    "        elif gender == '女' :\n",
    "            bmr = 9.6 * weight + 1.8 * height -4.7 * age + 655\n",
    "        else :\n",
    "            bmr = -1\n",
    "        if bmr != -1 :\n",
    "            print('您好！')\n",
    "            print('您的性别：{}；体重：{}公斤；身高：{}厘米；年龄：{}岁。'.format(gender, weight, height, age))\n",
    "            print('您的基础代谢率为：{}大卡。'.format(bmr))\n",
    "        else :\n",
    "            print('暂不支持该性别！')\n",
    "    except ValueError :\n",
    "        print('请输入正确信息！')\n",
    "    except IndexError :\n",
    "        print('输入的信息过少！')\n",
    "    #错误类型不可能枚举，其余情况用下一句涵盖\n",
    "    except :\n",
    "        print('程序异常！请稍后重试！')"
   ]
  },
  {
   "cell_type": "code",
   "execution_count": 4,
   "metadata": {},
   "outputs": [],
   "source": [
    "def main() :\n",
    "    '''\n",
    "    定义主函数\n",
    "    '''\n",
    "    print('           欢迎使用BMR计算器！          ')\n",
    "    print('-------------------**-------------------')\n",
    "    y_or_n = input('是否要退出程序（y/n）？')\n",
    "    while y_or_n == 'n' :\n",
    "        #基础信息的输入\n",
    "        info = input('请依次输入一下信息（用空格隔开）。\\n性别 体重（kg） 身高（cm） 年龄:')\n",
    "        newinfo = info.split(sep=' ')\n",
    "        #异常情况处理机制\n",
    "        Exception_handling(newinfo)\n",
    "        #本次循环结束，再询问是否继续    \n",
    "        print('-------------------**-------------------')\n",
    "        y_or_n = input('是否要退出程序（y/n）？')\n",
    "    print('-------------------**-------------------')\n",
    "    print('             感谢您的使用！             ')"
   ]
  },
  {
   "cell_type": "markdown",
   "metadata": {},
   "source": [
    "# 案例四 52周存钱挑战 "
   ]
  },
  {
   "cell_type": "markdown",
   "metadata": {},
   "source": [
    "* 本案例要调用的库包括math和datetime\n",
    "    * 其中datetime库因为内部还有一个datetime，所以要从库中安装datetime\n",
    "    \n",
    "这个案例主要想说明两个点，一个是用户输入的方式，一个是局部变量和全局变量"
   ]
  },
  {
   "cell_type": "code",
   "execution_count": 1,
   "metadata": {},
   "outputs": [],
   "source": [
    "import math\n",
    "from datetime import datetime"
   ]
  },
  {
   "cell_type": "markdown",
   "metadata": {},
   "source": [
    "## 函数设计\n",
    "\n",
    "这个案例主要想说明两个点，一个是用户输入的方式，一个是局部变量和全局变量\n",
    "\n",
    "我本来想的是定义函数的参数从而完成用户输入。"
   ]
  },
  {
   "cell_type": "code",
   "execution_count": 2,
   "metadata": {},
   "outputs": [],
   "source": [
    "#第一个参数是起始存入金额，也是后面每周的存入金额；第二个参数是每周增加的金额；第三个是持续的目标时间。\n",
    "def money_challenge1(money_current = 10, money_increase = 10, total_weeks = 52) :\n",
    "    money_summary = 0\n",
    "    money_list = []\n",
    "    for i in range(total_weeks) :\n",
    "        #将每一周存入的金额汇总进列表中\n",
    "        money_list.append(money_current)\n",
    "        #借助math库的fsum函数对列表进行求和\n",
    "        money_summary = math.fsum(money_list)\n",
    "        #格式化输出可以查看每周的存钱情况\n",
    "        print('第{}周，该周存入{}元，累计存入{}元。'.format(i+1, money_list[i], money_summary))  \n",
    "        #下一周将要存入的金额\n",
    "        money_current += money_increase   "
   ]
  },
  {
   "cell_type": "markdown",
   "metadata": {},
   "source": [
    "课程老师想的先是继续使用input来进行用户输入，然后又写了用形参定义函数的形式。"
   ]
  },
  {
   "cell_type": "code",
   "execution_count": 3,
   "metadata": {},
   "outputs": [],
   "source": [
    "def money_challenge2() :\n",
    "    money_current = float(input('请输入起始金额:'))\n",
    "    money_increase = float(input('请输入每周递增金额：'))\n",
    "    total_weeks = int(input('请输入目标存钱周数：'))\n",
    "    money_summary = 0\n",
    "    money_list = []\n",
    "    for i in range(total_weeks) :\n",
    "        #将每一周存入的金额汇总进列表中\n",
    "        money_list.append(money_current)\n",
    "        #求和\n",
    "        money_summary = math.fsum(money_list)\n",
    "        #格式化输出可以查看每周的存钱情况\n",
    "        print('第{}周，该周存入{}元，累计存入{}元。'.format(i+1, money_list[i], money_summary))\n",
    "        #下一周将要存入的金额\n",
    "        money_current += money_increase"
   ]
  },
  {
   "cell_type": "code",
   "execution_count": 4,
   "metadata": {},
   "outputs": [
    {
     "name": "stdout",
     "output_type": "stream",
     "text": [
      "第1周，该周存入10元，累计存入10.0元。\n",
      "第2周，该周存入20元，累计存入30.0元。\n",
      "第3周，该周存入30元，累计存入60.0元。\n",
      "第4周，该周存入40元，累计存入100.0元。\n",
      "第5周，该周存入50元，累计存入150.0元。\n",
      "第6周，该周存入60元，累计存入210.0元。\n",
      "第7周，该周存入70元，累计存入280.0元。\n",
      "第8周，该周存入80元，累计存入360.0元。\n",
      "第9周，该周存入90元，累计存入450.0元。\n",
      "第10周，该周存入100元，累计存入550.0元。\n",
      "\n",
      "\n",
      "请输入起始金额:10\n",
      "请输入每周递增金额：10\n",
      "请输入目标存钱周数：10\n",
      "第1周，该周存入10.0元，累计存入10.0元。\n",
      "第2周，该周存入20.0元，累计存入30.0元。\n",
      "第3周，该周存入30.0元，累计存入60.0元。\n",
      "第4周，该周存入40.0元，累计存入100.0元。\n",
      "第5周，该周存入50.0元，累计存入150.0元。\n",
      "第6周，该周存入60.0元，累计存入210.0元。\n",
      "第7周，该周存入70.0元，累计存入280.0元。\n",
      "第8周，该周存入80.0元，累计存入360.0元。\n",
      "第9周，该周存入90.0元，累计存入450.0元。\n",
      "第10周，该周存入100.0元，累计存入550.0元。\n"
     ]
    }
   ],
   "source": [
    "money_challenge1(total_weeks=10)\n",
    "print('\\n')\n",
    "money_challenge2()"
   ]
  },
  {
   "cell_type": "markdown",
   "metadata": {},
   "source": [
    "下面就是局部变量和全局变量的区别,这里课程老师也是改写了参数输入的方式，即我前面写的函数money_challenge1。为了区别局部变量和全局变量，将其变量money_summary移到了函数外面，并且在定义函数时加了一句print输出。"
   ]
  },
  {
   "cell_type": "code",
   "execution_count": 5,
   "metadata": {},
   "outputs": [
    {
     "name": "stdout",
     "output_type": "stream",
     "text": [
      "请输入起始金额:10\n",
      "请输入每周递增金额：10\n",
      "请输入目标存钱周数：52\n",
      "第1周，该周存入10.0元，累计存入10.0元。\n",
      "第2周，该周存入20.0元，累计存入30.0元。\n",
      "第3周，该周存入30.0元，累计存入60.0元。\n",
      "第4周，该周存入40.0元，累计存入100.0元。\n",
      "第5周，该周存入50.0元，累计存入150.0元。\n",
      "第6周，该周存入60.0元，累计存入210.0元。\n",
      "第7周，该周存入70.0元，累计存入280.0元。\n",
      "第8周，该周存入80.0元，累计存入360.0元。\n",
      "第9周，该周存入90.0元，累计存入450.0元。\n",
      "第10周，该周存入100.0元，累计存入550.0元。\n",
      "第11周，该周存入110.0元，累计存入660.0元。\n",
      "第12周，该周存入120.0元，累计存入780.0元。\n",
      "第13周，该周存入130.0元，累计存入910.0元。\n",
      "第14周，该周存入140.0元，累计存入1050.0元。\n",
      "第15周，该周存入150.0元，累计存入1200.0元。\n",
      "第16周，该周存入160.0元，累计存入1360.0元。\n",
      "第17周，该周存入170.0元，累计存入1530.0元。\n",
      "第18周，该周存入180.0元，累计存入1710.0元。\n",
      "第19周，该周存入190.0元，累计存入1900.0元。\n",
      "第20周，该周存入200.0元，累计存入2100.0元。\n",
      "第21周，该周存入210.0元，累计存入2310.0元。\n",
      "第22周，该周存入220.0元，累计存入2530.0元。\n",
      "第23周，该周存入230.0元，累计存入2760.0元。\n",
      "第24周，该周存入240.0元，累计存入3000.0元。\n",
      "第25周，该周存入250.0元，累计存入3250.0元。\n",
      "第26周，该周存入260.0元，累计存入3510.0元。\n",
      "第27周，该周存入270.0元，累计存入3780.0元。\n",
      "第28周，该周存入280.0元，累计存入4060.0元。\n",
      "第29周，该周存入290.0元，累计存入4350.0元。\n",
      "第30周，该周存入300.0元，累计存入4650.0元。\n",
      "第31周，该周存入310.0元，累计存入4960.0元。\n",
      "第32周，该周存入320.0元，累计存入5280.0元。\n",
      "第33周，该周存入330.0元，累计存入5610.0元。\n",
      "第34周，该周存入340.0元，累计存入5950.0元。\n",
      "第35周，该周存入350.0元，累计存入6300.0元。\n",
      "第36周，该周存入360.0元，累计存入6660.0元。\n",
      "第37周，该周存入370.0元，累计存入7030.0元。\n",
      "第38周，该周存入380.0元，累计存入7410.0元。\n",
      "第39周，该周存入390.0元，累计存入7800.0元。\n",
      "第40周，该周存入400.0元，累计存入8200.0元。\n",
      "第41周，该周存入410.0元，累计存入8610.0元。\n",
      "第42周，该周存入420.0元，累计存入9030.0元。\n",
      "第43周，该周存入430.0元，累计存入9460.0元。\n",
      "第44周，该周存入440.0元，累计存入9900.0元。\n",
      "第45周，该周存入450.0元，累计存入10350.0元。\n",
      "第46周，该周存入460.0元，累计存入10810.0元。\n",
      "第47周，该周存入470.0元，累计存入11280.0元。\n",
      "第48周，该周存入480.0元，累计存入11760.0元。\n",
      "第49周，该周存入490.0元，累计存入12250.0元。\n",
      "第50周，该周存入500.0元，累计存入12750.0元。\n",
      "第51周，该周存入510.0元，累计存入13260.0元。\n",
      "第52周，该周存入520.0元，累计存入13780.0元。\n",
      "调参函数的总金额是： 13780.0\n",
      "主函数的总金额是： 0\n"
     ]
    }
   ],
   "source": [
    "money_summary = 0\n",
    "def money_challenge1(money_current = 10, money_increase = 10, total_weeks = 52) :\n",
    "    money_list = []\n",
    "    for i in range(total_weeks) :\n",
    "        money_list.append(money_current)\n",
    "        money_summary = math.fsum(money_list)\n",
    "        print('第{}周，该周存入{}元，累计存入{}元。'.format(i+1, money_list[i], money_summary))  \n",
    "        money_current += money_increase  \n",
    "    print('调参函数的总金额是：', money_summary)\n",
    "def main() :\n",
    "    money_current = float(input('请输入起始金额:'))\n",
    "    money_increase = float(input('请输入每周递增金额：'))\n",
    "    total_weeks = int(input('请输入目标存钱周数：'))\n",
    "    \n",
    "    money_challenge1(money_current, money_increase, total_weeks)\n",
    "    print('主函数的总金额是：', money_summary)\n",
    "\n",
    "if __name__ == '__main__' :\n",
    "    main()"
   ]
  },
  {
   "cell_type": "markdown",
   "metadata": {},
   "source": [
    "这里的结果显示，在调参函数内运行的print是打印函数内部的变量，所以结果为550。但是在主函数中，print打印的参数是函数内调用的函数money_challenge1保存内部运行结果的money_summary，其作为局部变量并不能拿到外层来输出，所以最后主函数中的输出依旧为外部定义的0。\n",
    "\n",
    "为了使结果可以打印，我们要将局部变量改写为全局变量，使用global。"
   ]
  },
  {
   "cell_type": "code",
   "execution_count": 6,
   "metadata": {},
   "outputs": [
    {
     "name": "stdout",
     "output_type": "stream",
     "text": [
      "请输入起始金额:10\n",
      "请输入每周递增金额：10\n",
      "请输入目标存钱周数：10\n",
      "第1周，该周存入10.0元，累计存入10.0元。\n",
      "第2周，该周存入20.0元，累计存入30.0元。\n",
      "第3周，该周存入30.0元，累计存入60.0元。\n",
      "第4周，该周存入40.0元，累计存入100.0元。\n",
      "第5周，该周存入50.0元，累计存入150.0元。\n",
      "第6周，该周存入60.0元，累计存入210.0元。\n",
      "第7周，该周存入70.0元，累计存入280.0元。\n",
      "第8周，该周存入80.0元，累计存入360.0元。\n",
      "第9周，该周存入90.0元，累计存入450.0元。\n",
      "第10周，该周存入100.0元，累计存入550.0元。\n",
      "调参函数的总金额是： 550.0\n",
      "主函数的总金额是： 550.0\n"
     ]
    }
   ],
   "source": [
    "money_summary = 0\n",
    "def money_challenge1(money_current = 10, money_increase = 10, total_weeks = 52) :\n",
    "    money_list = []\n",
    "    global money_summary\n",
    "    for i in range(total_weeks) :\n",
    "        money_list.append(money_current)\n",
    "        money_summary = math.fsum(money_list)\n",
    "        print('第{}周，该周存入{}元，累计存入{}元。'.format(i+1, money_list[i], money_summary))  \n",
    "        money_current += money_increase  \n",
    "    print('调参函数的总金额是：', money_summary)\n",
    "def main() :\n",
    "    money_current = float(input('请输入起始金额:'))\n",
    "    money_increase = float(input('请输入每周递增金额：'))\n",
    "    total_weeks = int(input('请输入目标存钱周数：'))\n",
    "    \n",
    "    money_challenge1(money_current, money_increase, total_weeks)\n",
    "    print('主函数的总金额是：', money_summary)\n",
    "\n",
    "if __name__ == '__main__' :\n",
    "    main()"
   ]
  },
  {
   "cell_type": "markdown",
   "metadata": {},
   "source": [
    "这时主函数打印的就是一个全局变量money_summary，可以将内层函数的结果输出出来。"
   ]
  },
  {
   "cell_type": "markdown",
   "metadata": {},
   "source": [
    "## Python中的时间转换\n",
    "\n",
    "python官方文件——关于时间格式\n",
    "\n",
    "https://docs.python.org/3.6/library/datetime.html?highlight=datetime#strftime-and-strptime-behavior\n",
    "\n",
    "Python中主要借助strftime(format)和strptime(parsed)来进行时间和字符串的转换。这里添加的功能是根据用户输入的日期来确定他想查看的时间的存款情况。\n",
    "> strftime 将字符串转换为一定格式的时间\n",
    ">\n",
    "> strptime 将字符串转换为一定格式的时间\n",
    ">\n",
    "> isocalendar 提取出时间数据的天数，周数，和周几\n",
    "\n",
    "这里我选择了将每周的存入金额和总金额都作为输出值，输出的是元组，所以在后面调用这个变量的时候，要用lists[i]来调用"
   ]
  },
  {
   "cell_type": "code",
   "execution_count": 8,
   "metadata": {},
   "outputs": [
    {
     "name": "stdout",
     "output_type": "stream",
     "text": [
      "请输入起始金额:10\n",
      "请输入每周递增金额：10\n",
      "请输入目标存钱周数：52\n",
      "请输入查询日期（yyyymmdd）：20190321\n",
      "您要查询的日期为第13周，该周存入了130.0元，总金额为910.0元。\n"
     ]
    }
   ],
   "source": [
    "def money_challenge3(money_current = 10, money_increase = 10, total_weeks = 52) :\n",
    "    money_list = []\n",
    "    summary_list = []\n",
    "    money_summary = 0\n",
    "    for i in range(total_weeks) :\n",
    "        money_list.append(money_current)\n",
    "        money_summary = math.fsum(money_list)\n",
    "        #将每周的累积金额存入一个新的列表\n",
    "        summary_list.append(money_summary)\n",
    "        money_current += money_increase  \n",
    "    return (money_list, summary_list)\n",
    "\n",
    "    \n",
    "def main() :\n",
    "    money_current = float(input('请输入起始金额:'))\n",
    "    money_increase = float(input('请输入每周递增金额：'))\n",
    "    total_weeks = int(input('请输入目标存钱周数：'))\n",
    "    \n",
    "    lists = money_challenge3(money_current, money_increase, total_weeks)\n",
    "    #用户输入要查询的日期\n",
    "    date_str = input('请输入查询日期（yyyymmdd）：')\n",
    "    #按照输入的格式，将字符串转换为时间格式\n",
    "    date_time = datetime.strptime(date_str,'%Y%m%d')\n",
    "    #借助函数得到该日期的周数\n",
    "    i = date_time.isocalendar()[1]\n",
    "    #输出查询结果\n",
    "    print('您要查询的日期为第{}周，该周存入了{}元，总金额为{}元。'.format(i+1,lists[0][i],lists[1][i]))\n",
    "\n",
    "    \n",
    "if __name__ == '__main__' :\n",
    "    main()"
   ]
  },
  {
   "cell_type": "markdown",
   "metadata": {},
   "source": [
    "调用money_challenge2验证一下是否正确。"
   ]
  },
  {
   "cell_type": "code",
   "execution_count": 9,
   "metadata": {},
   "outputs": [
    {
     "name": "stdout",
     "output_type": "stream",
     "text": [
      "请输入起始金额:10\n",
      "请输入每周递增金额：10\n",
      "请输入目标存钱周数：13\n",
      "第1周，该周存入10.0元，累计存入10.0元。\n",
      "第2周，该周存入20.0元，累计存入30.0元。\n",
      "第3周，该周存入30.0元，累计存入60.0元。\n",
      "第4周，该周存入40.0元，累计存入100.0元。\n",
      "第5周，该周存入50.0元，累计存入150.0元。\n",
      "第6周，该周存入60.0元，累计存入210.0元。\n",
      "第7周，该周存入70.0元，累计存入280.0元。\n",
      "第8周，该周存入80.0元，累计存入360.0元。\n",
      "第9周，该周存入90.0元，累计存入450.0元。\n",
      "第10周，该周存入100.0元，累计存入550.0元。\n",
      "第11周，该周存入110.0元，累计存入660.0元。\n",
      "第12周，该周存入120.0元，累计存入780.0元。\n",
      "第13周，该周存入130.0元，累计存入910.0元。\n"
     ]
    }
   ],
   "source": [
    "money_challenge2()"
   ]
  },
  {
   "cell_type": "markdown",
   "metadata": {},
   "source": [
    "## 至此四个案例的全部内容就完结了，课程留了一个课后思考是将前面三个计算器或者说查询器合并"
   ]
  },
  {
   "cell_type": "code",
   "execution_count": 1,
   "metadata": {},
   "outputs": [],
   "source": [
    "import math\n",
    "from datetime import  datetime"
   ]
  },
  {
   "cell_type": "code",
   "execution_count": 2,
   "metadata": {},
   "outputs": [],
   "source": [
    "def currency_change():    \n",
    "    usd_vs_rmb = 6.77\n",
    "    i = 0\n",
    "    print('欢迎使用货币转换器（退出请输入Q）。')\n",
    "    value_string = input('请输入货币的金额和单位（CNY/USD）（示例：100CNY）：')\n",
    "    while value_string.upper() != 'Q' :\n",
    "        unit = value_string[-3:]\n",
    "        value = value_string[:-3]\n",
    "        if unit.upper() == 'CNY' :\n",
    "            usd = float(value) / usd_vs_rmb\n",
    "            print('转换为美元为：',round(usd,3),'USD')\n",
    "        elif unit.upper() == 'USD' :\n",
    "            rmb = float(value) * usd_vs_rmb\n",
    "            print('转换为人民币为：',round(rmb,3),'CNY')\n",
    "        else :\n",
    "            print('请输入人民币或者美元单位！')\n",
    "        i += 1\n",
    "        #print('循环次数：',str(i))\n",
    "        print('\\n*******************************************')\n",
    "        value_string = input('请输入货币的金额和单位（CNY/USD）（示例：100CNY）：')\n",
    "    print('程序已结束！')\n",
    "\n",
    "def bmr_computer() :\n",
    "    '''\n",
    "    定义主函数\n",
    "    '''\n",
    "    print('           欢迎使用BMR计算器！          ')\n",
    "    print('-------------------**-------------------')\n",
    "    y_or_n = input('是否要退出程序（y/n）？')\n",
    "    while y_or_n == 'n' :\n",
    "        #基础信息的输入\n",
    "        info = input('请依次输入一下信息（用空格隔开）。\\n性别 体重（kg） 身高（cm） 年龄:')\n",
    "        newinfo = info.split(sep=' ')\n",
    "        #异常情况处理机制\n",
    "        Exception_handling(newinfo)\n",
    "        #本次循环结束，再询问是否继续    \n",
    "        print('-------------------**-------------------')\n",
    "        y_or_n = input('是否要退出程序（y/n）？')\n",
    "    print('-------------------**-------------------')\n",
    "    print('             感谢您的使用！             ')\n",
    "    \n",
    "def money_challenge() :\n",
    "    money_current = float(input('请输入起始金额:'))\n",
    "    money_increase = float(input('请输入每周递增金额：'))\n",
    "    total_weeks = int(input('请输入目标存钱周数：'))\n",
    "    money_list = []\n",
    "    summary_list = []\n",
    "    money_summary = 0\n",
    "    for i in range(total_weeks) :\n",
    "        money_list.append(money_current)\n",
    "        money_summary = math.fsum(money_list)\n",
    "        #将每周的累积金额存入一个新的列表\n",
    "        summary_list.append(money_summary)\n",
    "        money_current += money_increase  \n",
    "    #用户输入要查询的日期\n",
    "    date_str = input('请输入查询日期（yyyymmdd）：')\n",
    "    #按照输入的格式，将字符串转换为时间格式\n",
    "    date_time = datetime.strptime(date_str,'%Y%m%d')\n",
    "    #借助函数得到该日期的周数\n",
    "    i = date_time.isocalendar()[1]\n",
    "    #输出查询结果\n",
    "    print('您要查询的日期为第{}周，该周存入了{}元，总金额为{}元。'.format(i+1,money_list[i],summary_list[i]))\n",
    "    \n",
    "def main():\n",
    "    choice = input('本程序现在支持货币转换、BMR计算和52周挑战查询，请选择要使用第几个功能（输入Q退出）：')\n",
    "    while choice.lower() != 'q' : \n",
    "        try:\n",
    "            if int(choice) not in range(1,4) :\n",
    "                print('请输入1，2或者3！')\n",
    "            elif int(choice) == 1 :\n",
    "                currency_change()\n",
    "            elif int(choice) == 2 :\n",
    "                bmr_computer()\n",
    "            elif int(choice) == 3 :\n",
    "                money_challenge()\n",
    "        except ValueError :\n",
    "            print('请输入数字！')\n",
    "        print('***************************************************************************')\n",
    "        choice = input('本程序现在支持货币转换、BMR计算和52周挑战查询，请选择要使用第几个功能（输入Q退出）：')\n",
    "    print('\\n***************************************************************************')\n",
    "    print('感谢您的使用！'.center(68))"
   ]
  },
  {
   "cell_type": "code",
   "execution_count": 3,
   "metadata": {},
   "outputs": [
    {
     "name": "stdout",
     "output_type": "stream",
     "text": [
      "本程序现在支持货币转换、BMR计算和52周挑战查询，请选择要使用第几个功能（输入Q退出）：t\n",
      "请输入数字！\n",
      "***************************************************************************\n",
      "本程序现在支持货币转换、BMR计算和52周挑战查询，请选择要使用第几个功能（输入Q退出）：4\n",
      "请输入1，2或者3！\n",
      "***************************************************************************\n",
      "本程序现在支持货币转换、BMR计算和52周挑战查询，请选择要使用第几个功能（输入Q退出）：3\n",
      "请输入起始金额:10\n",
      "请输入每周递增金额：10\n",
      "请输入目标存钱周数：52\n",
      "请输入查询日期（yyyymmdd）：20190321\n",
      "您要查询的日期为第13周，该周存入了130.0元，总金额为910.0元。\n",
      "***************************************************************************\n",
      "本程序现在支持货币转换、BMR计算和52周挑战查询，请选择要使用第几个功能（输入Q退出）：q\n",
      "\n",
      "***************************************************************************\n",
      "                              感谢您的使用！                               \n"
     ]
    }
   ],
   "source": [
    "if __name__ == '__main__' :\n",
    "    main()"
   ]
  }
 ],
 "metadata": {
  "kernelspec": {
   "display_name": "Python 3",
   "language": "python",
   "name": "python3"
  },
  "language_info": {
   "codemirror_mode": {
    "name": "ipython",
    "version": 3
   },
   "file_extension": ".py",
   "mimetype": "text/x-python",
   "name": "python",
   "nbconvert_exporter": "python",
   "pygments_lexer": "ipython3",
   "version": "3.6.5"
  }
 },
 "nbformat": 4,
 "nbformat_minor": 2
}
